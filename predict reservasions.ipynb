{
 "cells": [
  {
   "cell_type": "code",
   "execution_count": 7,
   "metadata": {},
   "outputs": [
    {
     "data": {
      "text/plain": [
       "'0.19.1'"
      ]
     },
     "execution_count": 7,
     "metadata": {},
     "output_type": "execute_result"
    }
   ],
   "source": [
    "import numpy as np\n",
    "import pandas as pd\n",
    "import matplotlib.pyplot as plt\n",
    "from sklearn import cross_validation, preprocessing, linear_model\n",
    "import sklearn\n",
    "sklearn.__version__"
   ]
  },
  {
   "cell_type": "code",
   "execution_count": 12,
   "metadata": {},
   "outputs": [],
   "source": [
    "df=pd.read_csv('予約金額予測2.csv')"
   ]
  },
  {
   "cell_type": "code",
   "execution_count": 23,
   "metadata": {},
   "outputs": [],
   "source": [
    "X_rg = df[['会員登録数']].values\n",
    "X = df.iloc[: , 0:4]\n",
    "#X=df[['Age']].Values\n",
    "Y = df['予約金額'].values"
   ]
  },
  {
   "cell_type": "code",
   "execution_count": 24,
   "metadata": {},
   "outputs": [
    {
     "name": "stderr",
     "output_type": "stream",
     "text": [
      "/Users/takeisatoshisui/anaconda3/lib/python3.6/site-packages/sklearn/utils/validation.py:475: DataConversionWarning: Data with input dtype int64 was converted to float64 by StandardScaler.\n",
      "  warnings.warn(msg, DataConversionWarning)\n"
     ]
    }
   ],
   "source": [
    "#データの整形\n",
    "sc = preprocessing.StandardScaler()\n",
    "sc.fit(X)\n",
    "X = sc.transform(X)\n",
    "sc.fit(X_rg)\n",
    "X_rg= sc.transform(X_rg)"
   ]
  },
  {
   "cell_type": "code",
   "execution_count": 25,
   "metadata": {},
   "outputs": [],
   "source": [
    "#学習データとテストデータに分ける\n",
    "X_train,X_test,Y_train,Y_test = cross_validation.train_test_split(X,Y,test_size = 0.2 , random_state=0)\n",
    "X_rg_train,X_rg_test,Y_train,Y_test = cross_validation.train_test_split(X_rg, Y, test_size = 0.2, random_state=0)"
   ]
  },
  {
   "cell_type": "code",
   "execution_count": 26,
   "metadata": {},
   "outputs": [
    {
     "data": {
      "text/plain": [
       "SGDRegressor(alpha=0.0001, average=False, epsilon=0.1, eta0=0.01,\n",
       "       fit_intercept=True, l1_ratio=0.15, learning_rate='invscaling',\n",
       "       loss='squared_loss', max_iter=1000, n_iter=None, penalty='l2',\n",
       "       power_t=0.25, random_state=None, shuffle=True, tol=None, verbose=0,\n",
       "       warm_start=False)"
      ]
     },
     "execution_count": 26,
     "metadata": {},
     "output_type": "execute_result"
    }
   ],
   "source": [
    "#SGD Regressorを適用する\n",
    "clf = linear_model.SGDRegressor(max_iter= 1000)\n",
    "clf.fit(X_train , Y_train)\n",
    "clf_rg = linear_model.SGDRegressor(max_iter = 1000)\n",
    "clf_rg.fit(X_rg_train,Y_train)"
   ]
  },
  {
   "cell_type": "code",
   "execution_count": 27,
   "metadata": {},
   "outputs": [
    {
     "name": "stdout",
     "output_type": "stream",
     "text": [
      "全部使用したときの回帰式の係数\n",
      "[14600599.05779426]\n",
      "[ 345968.08340407 2004427.53805113 3842144.83443287 1500955.15343197]\n"
     ]
    }
   ],
   "source": [
    "print('全部使用したときの回帰式の係数')\n",
    "print(clf.intercept_)\n",
    "print(clf.coef_)"
   ]
  },
  {
   "cell_type": "code",
   "execution_count": 28,
   "metadata": {},
   "outputs": [
    {
     "data": {
      "text/plain": [
       "<function matplotlib.pyplot.show(*args, **kw)>"
      ]
     },
     "execution_count": 28,
     "metadata": {},
     "output_type": "execute_result"
    },
    {
     "data": {
      "image/png": "[encoded data removed]",
      "text/plain": [
       "<Figure size 720x720 with 1 Axes>"
      ]
     },
     "metadata": {},
     "output_type": "display_data"
    }
   ],
   "source": [
    "#結果をプロットする\n",
    "%matplotlib inline\n",
    "line_X=np.arange(-4,4,0.1) #3から10まで1刻み\n",
    "line_Y = clf_rg.predict(line_X[:,np.newaxis])\n",
    "plt.figure(figsize = (10,10))\n",
    "plt.subplot(2,1,1)\n",
    "plt.scatter(X_rg_train, Y_train, c = 'b' , marker='s')\n",
    "plt.plot(line_X , line_Y, c = 'r')\n",
    "plt.show"
   ]
  },
  {
   "cell_type": "code",
   "execution_count": 29,
   "metadata": {},
   "outputs": [
    {
     "data": {
      "text/plain": [
       "<function matplotlib.pyplot.show(*args, **kw)>"
      ]
     },
     "execution_count": 29,
     "metadata": {},
     "output_type": "execute_result"
    },
    {
     "data": {
      "image/png": "[encoded data removed]",
      "text/plain": [
       "<Figure size 432x288 with 1 Axes>"
      ]
     },
     "metadata": {},
     "output_type": "display_data"
    }
   ],
   "source": [
    "#誤差をプロットする\n",
    "Y_rg_pred = clf_rg.predict(X_rg_test)\n",
    "plt.subplot(2,1,2)\n",
    "plt.scatter(Y_test, Y_rg_pred - Y_test, c = 'b' , marker='s',label = 'RG_only')\n",
    "\n",
    "Y_pred = clf.predict(X_test)\n",
    "plt.scatter(Y_test,Y_pred - Y_test, c= 'r' , marker = 's' , label = 'ALL')\n",
    "plt.legend()\n",
    "plt.hlines(y=0, xmin=0,xmax=50 , colors='black')\n",
    "plt.show"
   ]
  },
  {
   "cell_type": "code",
   "execution_count": 30,
   "metadata": {},
   "outputs": [
    {
     "name": "stdout",
     "output_type": "stream",
     "text": [
      "/n「RGだけの平均2乗誤差」と「全部を使用したときの平均二乗誤差」\n",
      "15732073693904.293\n",
      "52528203549017.39\n"
     ]
    }
   ],
   "source": [
    "print(\"/n「RGだけの平均2乗誤差」と「全部を使用したときの平均二乗誤差」\")\n",
    "RMS = np.mean((Y_pred - Y_test)**2)\n",
    "RMS_rg = np.mean((Y_rg_pred - Y_test)**2)\n",
    "print(RMS)\n",
    "print(RMS_rg)"
   ]
  },
  {
   "cell_type": "code",
   "execution_count": null,
   "metadata": {},
   "outputs": [],
   "source": []
  },
  {
   "cell_type": "code",
   "execution_count": null,
   "metadata": {},
   "outputs": [],
   "source": []
  }
 ],
 "metadata": {
  "kernelspec": {
   "display_name": "Python 3",
   "language": "python",
   "name": "python3"
  },
  "language_info": {
   "codemirror_mode": {
    "name": "ipython",
    "version": 3
   },
   "file_extension": ".py",
   "mimetype": "text/x-python",
   "name": "python",
   "nbconvert_exporter": "python",
   "pygments_lexer": "ipython3",
   "version": "3.6.4"
  }
 },
 "nbformat": 4,
 "nbformat_minor": 2
}
