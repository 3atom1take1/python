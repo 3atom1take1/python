{
 "cells": [
  {
   "cell_type": "code",
   "execution_count": 13,
   "metadata": {},
   "outputs": [],
   "source": [
    "# ライブラリのインポート\n",
    "import pandas as pd\n",
    "import matplotlib.pyplot as pyplot\n",
    "% matplotlib inline\n",
    "from sklearn.model_selection import train_test_split\n",
    "from sklearn.metrics import confusion_matrix\n",
    "from sklearn.ensemble import RandomForestClassifier\n",
    "from sklearn.ensemble import GradientBoostingClassifier\n",
    "from sklearn.metrics import f1_score\n",
    "from sklearn.model_selection import GridSearchCV\n",
    "from sklearn.metrics import make_scorer\n",
    "import seaborn"
   ]
  },
  {
   "cell_type": "code",
   "execution_count": 14,
   "metadata": {},
   "outputs": [],
   "source": [
    "reservation_df = pd.read_csv('reservation180731.csv')"
   ]
  },
  {
   "cell_type": "code",
   "execution_count": 15,
   "metadata": {
    "scrolled": true
   },
   "outputs": [
    {
     "data": {
      "text/html": [
       "<div>\n",
       "<style scoped>\n",
       "    .dataframe tbody tr th:only-of-type {\n",
       "        vertical-align: middle;\n",
       "    }\n",
       "\n",
       "    .dataframe tbody tr th {\n",
       "        vertical-align: top;\n",
       "    }\n",
       "\n",
       "    .dataframe thead th {\n",
       "        text-align: right;\n",
       "    }\n",
       "</style>\n",
       "<table border=\"1\" class=\"dataframe\">\n",
       "  <thead>\n",
       "    <tr style=\"text-align: right;\">\n",
       "      <th></th>\n",
       "      <th>予約番号</th>\n",
       "      <th>ステータス</th>\n",
       "      <th>過去予約数</th>\n",
       "      <th>会員登録日</th>\n",
       "      <th>性別</th>\n",
       "      <th>誕生日</th>\n",
       "      <th>予約日</th>\n",
       "      <th>予約曜日</th>\n",
       "      <th>予約額</th>\n",
       "      <th>割引額</th>\n",
       "      <th>支払額</th>\n",
       "      <th>会員登録時広告</th>\n",
       "      <th>予約時広告</th>\n",
       "      <th>会員登録時言語</th>\n",
       "      <th>予約時言語</th>\n",
       "      <th>利用クーポン名</th>\n",
       "      <th>コミッション</th>\n",
       "    </tr>\n",
       "  </thead>\n",
       "  <tbody>\n",
       "    <tr>\n",
       "      <th>0</th>\n",
       "      <td>dja4KMa</td>\n",
       "      <td>キャンセル</td>\n",
       "      <td>0</td>\n",
       "      <td>2015-07-01</td>\n",
       "      <td>female</td>\n",
       "      <td>1973-02-09</td>\n",
       "      <td>2018-01-01T00:00:12</td>\n",
       "      <td>Monday</td>\n",
       "      <td>36720</td>\n",
       "      <td>18360</td>\n",
       "      <td>18360</td>\n",
       "      <td>ポンパレ_チケットLP</td>\n",
       "      <td>NaN</td>\n",
       "      <td>jpn</td>\n",
       "      <td>jpn</td>\n",
       "      <td>【50%OFF】 スマパスプレミアム会員限定クーポン</td>\n",
       "      <td>NaN</td>\n",
       "    </tr>\n",
       "    <tr>\n",
       "      <th>1</th>\n",
       "      <td>F5UTaE2</td>\n",
       "      <td>完了</td>\n",
       "      <td>1</td>\n",
       "      <td>2017-04-02</td>\n",
       "      <td>male</td>\n",
       "      <td>1993-07-09</td>\n",
       "      <td>2018-01-01T00:03:29</td>\n",
       "      <td>Monday</td>\n",
       "      <td>52200</td>\n",
       "      <td>26100</td>\n",
       "      <td>26100</td>\n",
       "      <td>スマパスの日_予告ページ訴求枠</td>\n",
       "      <td>NaN</td>\n",
       "      <td>jpn</td>\n",
       "      <td>jpn</td>\n",
       "      <td>【50%OFF】 スマパスプレミアム会員限定クーポン</td>\n",
       "      <td>12.0</td>\n",
       "    </tr>\n",
       "    <tr>\n",
       "      <th>2</th>\n",
       "      <td>TYuItBK</td>\n",
       "      <td>キャンセル</td>\n",
       "      <td>1</td>\n",
       "      <td>2017-10-21</td>\n",
       "      <td>female</td>\n",
       "      <td>1960-08-14</td>\n",
       "      <td>2018-01-01T00:04:29</td>\n",
       "      <td>Monday</td>\n",
       "      <td>23000</td>\n",
       "      <td>5000</td>\n",
       "      <td>18000</td>\n",
       "      <td>NaN</td>\n",
       "      <td>NaN</td>\n",
       "      <td>jpn</td>\n",
       "      <td>jpn</td>\n",
       "      <td>【5,000円割引】クリスマスクーポン</td>\n",
       "      <td>NaN</td>\n",
       "    </tr>\n",
       "    <tr>\n",
       "      <th>3</th>\n",
       "      <td>bolxLgD</td>\n",
       "      <td>キャンセル</td>\n",
       "      <td>0</td>\n",
       "      <td>2016-06-29</td>\n",
       "      <td>male</td>\n",
       "      <td>1987-10-13</td>\n",
       "      <td>2018-01-01T00:04:54</td>\n",
       "      <td>Monday</td>\n",
       "      <td>137160</td>\n",
       "      <td>0</td>\n",
       "      <td>0</td>\n",
       "      <td>Facebook 通常ポスト</td>\n",
       "      <td>Reluxメルマガ20171229</td>\n",
       "      <td>jpn</td>\n",
       "      <td>jpn</td>\n",
       "      <td>NaN</td>\n",
       "      <td>NaN</td>\n",
       "    </tr>\n",
       "    <tr>\n",
       "      <th>4</th>\n",
       "      <td>UkkAuI4</td>\n",
       "      <td>完了</td>\n",
       "      <td>0</td>\n",
       "      <td>2016-11-21</td>\n",
       "      <td>female</td>\n",
       "      <td>1988-05-02</td>\n",
       "      <td>2018-01-01T00:09:17</td>\n",
       "      <td>Monday</td>\n",
       "      <td>52040</td>\n",
       "      <td>10408</td>\n",
       "      <td>41632</td>\n",
       "      <td>GS_101_General</td>\n",
       "      <td>エムアイカードポイント</td>\n",
       "      <td>jpn</td>\n",
       "      <td>jpn</td>\n",
       "      <td>【20%OFF】旅みくじクーポン</td>\n",
       "      <td>12.0</td>\n",
       "    </tr>\n",
       "    <tr>\n",
       "      <th>5</th>\n",
       "      <td>kUr2IZF</td>\n",
       "      <td>完了</td>\n",
       "      <td>0</td>\n",
       "      <td>2017-10-24</td>\n",
       "      <td>female</td>\n",
       "      <td>1983-01-31</td>\n",
       "      <td>2018-01-01T00:13:03</td>\n",
       "      <td>Monday</td>\n",
       "      <td>67200</td>\n",
       "      <td>6720</td>\n",
       "      <td>60480</td>\n",
       "      <td>TripAdvisor_CN-Mobile_21708</td>\n",
       "      <td>NaN</td>\n",
       "      <td>chi</td>\n",
       "      <td>chi</td>\n",
       "      <td>【10%OFF】旅みくじクーポン</td>\n",
       "      <td>12.0</td>\n",
       "    </tr>\n",
       "  </tbody>\n",
       "</table>\n",
       "</div>"
      ],
      "text/plain": [
       "      予約番号  ステータス  過去予約数       会員登録日      性別         誕生日                  予約日  \\\n",
       "0  dja4KMa  キャンセル      0  2015-07-01  female  1973-02-09  2018-01-01T00:00:12   \n",
       "1  F5UTaE2     完了      1  2017-04-02    male  1993-07-09  2018-01-01T00:03:29   \n",
       "2  TYuItBK  キャンセル      1  2017-10-21  female  1960-08-14  2018-01-01T00:04:29   \n",
       "3  bolxLgD  キャンセル      0  2016-06-29    male  1987-10-13  2018-01-01T00:04:54   \n",
       "4  UkkAuI4     完了      0  2016-11-21  female  1988-05-02  2018-01-01T00:09:17   \n",
       "5  kUr2IZF     完了      0  2017-10-24  female  1983-01-31  2018-01-01T00:13:03   \n",
       "\n",
       "     予約曜日     予約額    割引額    支払額                      会員登録時広告  \\\n",
       "0  Monday   36720  18360  18360                  ポンパレ_チケットLP   \n",
       "1  Monday   52200  26100  26100              スマパスの日_予告ページ訴求枠   \n",
       "2  Monday   23000   5000  18000                          NaN   \n",
       "3  Monday  137160      0      0               Facebook 通常ポスト   \n",
       "4  Monday   52040  10408  41632               GS_101_General   \n",
       "5  Monday   67200   6720  60480  TripAdvisor_CN-Mobile_21708   \n",
       "\n",
       "               予約時広告 会員登録時言語 予約時言語                     利用クーポン名  コミッション  \n",
       "0                NaN     jpn   jpn  【50%OFF】 スマパスプレミアム会員限定クーポン     NaN  \n",
       "1                NaN     jpn   jpn  【50%OFF】 スマパスプレミアム会員限定クーポン    12.0  \n",
       "2                NaN     jpn   jpn         【5,000円割引】クリスマスクーポン     NaN  \n",
       "3  Reluxメルマガ20171229     jpn   jpn                         NaN     NaN  \n",
       "4        エムアイカードポイント     jpn   jpn            【20%OFF】旅みくじクーポン    12.0  \n",
       "5                NaN     chi   chi            【10%OFF】旅みくじクーポン    12.0  "
      ]
     },
     "execution_count": 15,
     "metadata": {},
     "output_type": "execute_result"
    }
   ],
   "source": [
    "reservation_df.head(6)"
   ]
  },
  {
   "cell_type": "code",
   "execution_count": 18,
   "metadata": {},
   "outputs": [
    {
     "data": {
      "text/plain": [
       "完了       28868\n",
       "キャンセル    20191\n",
       "不明        1600\n",
       "予約中        727\n",
       "Name: ステータス, dtype: int64"
      ]
     },
     "execution_count": 18,
     "metadata": {},
     "output_type": "execute_result"
    }
   ],
   "source": [
    "reservation_df['ステータス'].value_counts()"
   ]
  },
  {
   "cell_type": "code",
   "execution_count": 23,
   "metadata": {},
   "outputs": [
    {
     "ename": "ValueError",
     "evalue": "No axis named 2 for object type <class 'pandas.core.frame.DataFrame'>",
     "output_type": "error",
     "traceback": [
      "\u001b[0;31m---------------------------------------------------------------------------\u001b[0m",
      "\u001b[0;31mValueError\u001b[0m                                Traceback (most recent call last)",
      "\u001b[0;32m<ipython-input-23-34c58fe36ffa>\u001b[0m in \u001b[0;36m<module>\u001b[0;34m()\u001b[0m\n\u001b[1;32m      1\u001b[0m \u001b[0;31m#不要な行を削除\u001b[0m\u001b[0;34m\u001b[0m\u001b[0;34m\u001b[0m\u001b[0m\n\u001b[0;32m----> 2\u001b[0;31m \u001b[0mreservation_df2\u001b[0m \u001b[0;34m=\u001b[0m\u001b[0mreservation_df\u001b[0m\u001b[0;34m.\u001b[0m\u001b[0mdrop\u001b[0m\u001b[0;34m(\u001b[0m\u001b[0;34m'ステータス'\u001b[0m \u001b[0;34m==\u001b[0m\u001b[0;34m'予約中'\u001b[0m \u001b[0;34m,\u001b[0m \u001b[0maxis\u001b[0m \u001b[0;34m=\u001b[0m\u001b[0;36m2\u001b[0m \u001b[0;34m)\u001b[0m\u001b[0;34m\u001b[0m\u001b[0m\n\u001b[0m",
      "\u001b[0;32m~/anaconda3/lib/python3.6/site-packages/pandas/core/generic.py\u001b[0m in \u001b[0;36mdrop\u001b[0;34m(self, labels, axis, index, columns, level, inplace, errors)\u001b[0m\n\u001b[1;32m   2516\u001b[0m                 raise ValueError(\"Cannot specify both 'labels' and \"\n\u001b[1;32m   2517\u001b[0m                                  \"'index'/'columns'\")\n\u001b[0;32m-> 2518\u001b[0;31m             \u001b[0maxis_name\u001b[0m \u001b[0;34m=\u001b[0m \u001b[0mself\u001b[0m\u001b[0;34m.\u001b[0m\u001b[0m_get_axis_name\u001b[0m\u001b[0;34m(\u001b[0m\u001b[0maxis\u001b[0m\u001b[0;34m)\u001b[0m\u001b[0;34m\u001b[0m\u001b[0m\n\u001b[0m\u001b[1;32m   2519\u001b[0m             \u001b[0maxes\u001b[0m \u001b[0;34m=\u001b[0m \u001b[0;34m{\u001b[0m\u001b[0maxis_name\u001b[0m\u001b[0;34m:\u001b[0m \u001b[0mlabels\u001b[0m\u001b[0;34m}\u001b[0m\u001b[0;34m\u001b[0m\u001b[0m\n\u001b[1;32m   2520\u001b[0m         \u001b[0;32melif\u001b[0m \u001b[0mindex\u001b[0m \u001b[0;32mis\u001b[0m \u001b[0;32mnot\u001b[0m \u001b[0;32mNone\u001b[0m \u001b[0;32mor\u001b[0m \u001b[0mcolumns\u001b[0m \u001b[0;32mis\u001b[0m \u001b[0;32mnot\u001b[0m \u001b[0;32mNone\u001b[0m\u001b[0;34m:\u001b[0m\u001b[0;34m\u001b[0m\u001b[0m\n",
      "\u001b[0;32m~/anaconda3/lib/python3.6/site-packages/pandas/core/generic.py\u001b[0m in \u001b[0;36m_get_axis_name\u001b[0;34m(self, axis)\u001b[0m\n\u001b[1;32m    368\u001b[0m                 \u001b[0;32mpass\u001b[0m\u001b[0;34m\u001b[0m\u001b[0m\n\u001b[1;32m    369\u001b[0m         raise ValueError('No axis named {0} for object type {1}'\n\u001b[0;32m--> 370\u001b[0;31m                          .format(axis, type(self)))\n\u001b[0m\u001b[1;32m    371\u001b[0m \u001b[0;34m\u001b[0m\u001b[0m\n\u001b[1;32m    372\u001b[0m     \u001b[0;32mdef\u001b[0m \u001b[0m_get_axis\u001b[0m\u001b[0;34m(\u001b[0m\u001b[0mself\u001b[0m\u001b[0;34m,\u001b[0m \u001b[0maxis\u001b[0m\u001b[0;34m)\u001b[0m\u001b[0;34m:\u001b[0m\u001b[0;34m\u001b[0m\u001b[0m\n",
      "\u001b[0;31mValueError\u001b[0m: No axis named 2 for object type <class 'pandas.core.frame.DataFrame'>"
     ]
    }
   ],
   "source": [
    "#不要な行を削除\n",
    "reservation_df2 =reservation_df.drop('ステータス' =='予約中' , axis =2 )"
   ]
  },
  {
   "cell_type": "code",
   "execution_count": 16,
   "metadata": {
    "scrolled": true
   },
   "outputs": [
    {
     "data": {
      "text/plain": [
       "array([[<matplotlib.axes._subplots.AxesSubplot object at 0x1150087b8>,\n",
       "        <matplotlib.axes._subplots.AxesSubplot object at 0x11628dc88>],\n",
       "       [<matplotlib.axes._subplots.AxesSubplot object at 0x1a181a3828>,\n",
       "        <matplotlib.axes._subplots.AxesSubplot object at 0x1a181cceb8>],\n",
       "       [<matplotlib.axes._subplots.AxesSubplot object at 0x11660c588>,\n",
       "        <matplotlib.axes._subplots.AxesSubplot object at 0x11660c5c0>]],\n",
       "      dtype=object)"
      ]
     },
     "execution_count": 16,
     "metadata": {},
     "output_type": "execute_result"
    },
    {
     "data": {
      "image/png": "[encoded data removed]",
      "text/plain": [
       "<Figure size 864x864 with 6 Axes>"
      ]
     },
     "metadata": {},
     "output_type": "display_data"
    }
   ],
   "source": [
    "reservation_df.hist(figsize=(12,12))"
   ]
  },
  {
   "cell_type": "code",
   "execution_count": 17,
   "metadata": {},
   "outputs": [],
   "source": [
    "#目的変数と説明変数の抽出\n",
    "features_df = pd.DataFrame()"
   ]
  },
  {
   "cell_type": "code",
   "execution_count": null,
   "metadata": {},
   "outputs": [],
   "source": [
    "#目的変数の抽出\n",
    "features_df['ステータス'] = reservation_df['ステータス'].apply(lambda s:1 if s == '1' else)"
   ]
  }
 ],
 "metadata": {
  "kernelspec": {
   "display_name": "Python 3",
   "language": "python",
   "name": "python3"
  },
  "language_info": {
   "codemirror_mode": {
    "name": "ipython",
    "version": 3
   },
   "file_extension": ".py",
   "mimetype": "text/x-python",
   "name": "python",
   "nbconvert_exporter": "python",
   "pygments_lexer": "ipython3",
   "version": "3.6.4"
  }
 },
 "nbformat": 4,
 "nbformat_minor": 2
}
