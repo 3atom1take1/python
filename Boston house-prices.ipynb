{
 "cells": [
  {
   "cell_type": "code",
   "execution_count": 1,
   "metadata": {},
   "outputs": [
    {
     "name": "stderr",
     "output_type": "stream",
     "text": [
      "/Users/takeisatoshisui/anaconda3/lib/python3.6/site-packages/sklearn/cross_validation.py:41: DeprecationWarning: This module was deprecated in version 0.18 in favor of the model_selection module into which all the refactored classes and functions are moved. Also note that the interface of the new CV iterators are different from that of this module. This module will be removed in 0.20.\n",
      "  \"This module will be removed in 0.20.\", DeprecationWarning)\n"
     ]
    },
    {
     "data": {
      "text/plain": [
       "'0.19.1'"
      ]
     },
     "execution_count": 1,
     "metadata": {},
     "output_type": "execute_result"
    }
   ],
   "source": [
    "import numpy as np\n",
    "import pandas as pd\n",
    "import matplotlib.pyplot as plt\n",
    "from sklearn import cross_validation, preprocessing, linear_model\n",
    "import sklearn\n",
    "sklearn.__version__"
   ]
  },
  {
   "cell_type": "code",
   "execution_count": 12,
   "metadata": {},
   "outputs": [],
   "source": [
    "df=pd.read_csv('https://archive.ics.uci.edu/ml/machine-learning-databases/housing/housing.data', header=None, sep='\\s+')\n",
    "df.columns=['CRIM','ZN', 'INDUS', 'CHAS', 'NOX', 'RM', 'AGE', 'DIS', 'RAD', 'TAX', 'PTRATIO', 'B', 'LSTAT', 'MEDV']"
   ]
  },
  {
   "cell_type": "code",
   "execution_count": 13,
   "metadata": {},
   "outputs": [],
   "source": [
    "X_rm = df[['RM']].values\n",
    "X = df.iloc[: , 0:13]\n",
    "#X=df[['Age']].Values\n",
    "Y = df['MEDV'].values"
   ]
  },
  {
   "cell_type": "code",
   "execution_count": 14,
   "metadata": {},
   "outputs": [],
   "source": [
    "#データの整形\n",
    "sc = preprocessing.StandardScaler()\n",
    "sc.fit(X)\n",
    "X = sc.transform(X)\n",
    "sc.fit(X_rm)\n",
    "X_rm= sc.transform(X_rm)"
   ]
  },
  {
   "cell_type": "code",
   "execution_count": 15,
   "metadata": {},
   "outputs": [],
   "source": [
    "#学習データとテストデータに分ける\n",
    "X_train,X_test,Y_train,Y_test = cross_validation.train_test_split(X,Y,test_size = 0.2 , random_state=0)\n",
    "X_rm_train,X_rm_test,Y_train,Y_test = cross_validation.train_test_split(X_rm, Y, test_size = 0.2, random_state=0)"
   ]
  },
  {
   "cell_type": "code",
   "execution_count": 17,
   "metadata": {},
   "outputs": [
    {
     "data": {
      "text/plain": [
       "SGDRegressor(alpha=0.0001, average=False, epsilon=0.1, eta0=0.01,\n",
       "       fit_intercept=True, l1_ratio=0.15, learning_rate='invscaling',\n",
       "       loss='squared_loss', max_iter=1000, n_iter=None, penalty='l2',\n",
       "       power_t=0.25, random_state=None, shuffle=True, tol=None, verbose=0,\n",
       "       warm_start=False)"
      ]
     },
     "execution_count": 17,
     "metadata": {},
     "output_type": "execute_result"
    }
   ],
   "source": [
    "#SGD Regressorを適用する\n",
    "clf = linear_model.SGDRegressor(max_iter= 1000)\n",
    "clf.fit(X_train , Y_train)\n",
    "clf_rm = linear_model.SGDRegressor(max_iter = 1000)\n",
    "clf_rm.fit(X_rm_train,Y_train)"
   ]
  },
  {
   "cell_type": "code",
   "execution_count": 18,
   "metadata": {},
   "outputs": [
    {
     "name": "stdout",
     "output_type": "stream",
     "text": [
      "全部使用したときの回帰式の係数\n",
      "[22.48220585]\n",
      "[-1.01940489  1.03897561  0.04588307  0.59423139 -1.86291066  2.60204422\n",
      " -0.07923522 -2.92292222  2.13066608 -1.83944985 -2.26043139  0.73443646\n",
      " -3.51050433]\n"
     ]
    }
   ],
   "source": [
    "print('全部使用したときの回帰式の係数')\n",
    "print(clf.intercept_)\n",
    "print(clf.coef_)"
   ]
  },
  {
   "cell_type": "code",
   "execution_count": 20,
   "metadata": {},
   "outputs": [
    {
     "data": {
      "text/plain": [
       "<function matplotlib.pyplot.show(*args, **kw)>"
      ]
     },
     "execution_count": 20,
     "metadata": {},
     "output_type": "execute_result"
    },
    {
     "data": {
      "image/png": "[encoded data removed]",
      "text/plain": [
       "<Figure size 720x720 with 1 Axes>"
      ]
     },
     "metadata": {},
     "output_type": "display_data"
    }
   ],
   "source": [
    "#結果をプロットする\n",
    "%matplotlib inline\n",
    "line_X=np.arange(-4,4,0.1) #3から10まで1刻み\n",
    "line_Y = clf_rm.predict(line_X[:,np.newaxis])\n",
    "plt.figure(figsize = (10,10))\n",
    "plt.subplot(2,1,1)\n",
    "plt.scatter(X_rm_train, Y_train, c = 'b' , marker='s')\n",
    "plt.plot(line_X , line_Y, c = 'r')\n",
    "plt.show"
   ]
  },
  {
   "cell_type": "code",
   "execution_count": 21,
   "metadata": {},
   "outputs": [
    {
     "data": {
      "text/plain": [
       "<function matplotlib.pyplot.show(*args, **kw)>"
      ]
     },
     "execution_count": 21,
     "metadata": {},
     "output_type": "execute_result"
    },
    {
     "data": {
      "image/png": "[encoded data removed]",
      "text/plain": [
       "<Figure size 432x288 with 1 Axes>"
      ]
     },
     "metadata": {},
     "output_type": "display_data"
    }
   ],
   "source": [
    "#誤差をプロットする\n",
    "Y_rm_pred = clf_rm.predict(X_rm_test)\n",
    "plt.subplot(2,1,2)\n",
    "plt.scatter(Y_test, Y_rm_pred-Y_test, c = 'b' , marker='s',label = 'RM_only')\n",
    "\n",
    "Y_pred = clf.predict(X_test)\n",
    "plt.scatter(Y_test,Y_pred-Y_test, c= 'r' , marker = 's' , label = 'ALL')\n",
    "plt.legend()\n",
    "plt.hlines(y=0, xmin=0,xmax=50 , colors='black')\n",
    "plt.show"
   ]
  },
  {
   "cell_type": "code",
   "execution_count": 23,
   "metadata": {},
   "outputs": [
    {
     "name": "stdout",
     "output_type": "stream",
     "text": [
      "/n「RMだけの平均2乗誤差」と「全部を使用したときの平均二乗誤差」\n",
      "46.89382309698546\n",
      "33.302465496786006\n"
     ]
    }
   ],
   "source": [
    "print(\"/n「RMだけの平均2乗誤差」と「全部を使用したときの平均二乗誤差」\")\n",
    "RMS = np.mean((Y_pred - Y_test)**2)\n",
    "RMS_rm = np.mean((Y_rm_pred - Y_test)**2)\n",
    "print(RMS_rm)\n",
    "print(RMS)"
   ]
  },
  {
   "cell_type": "code",
   "execution_count": null,
   "metadata": {},
   "outputs": [],
   "source": []
  }
 ],
 "metadata": {
  "kernelspec": {
   "display_name": "Python 3",
   "language": "python",
   "name": "python3"
  },
  "language_info": {
   "codemirror_mode": {
    "name": "ipython",
    "version": 3
   },
   "file_extension": ".py",
   "mimetype": "text/x-python",
   "name": "python",
   "nbconvert_exporter": "python",
   "pygments_lexer": "ipython3",
   "version": "3.6.4"
  }
 },
 "nbformat": 4,
 "nbformat_minor": 2
}
